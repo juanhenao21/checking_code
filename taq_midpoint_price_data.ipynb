{
 "cells": [
  {
   "cell_type": "markdown",
   "metadata": {},
   "source": [
    "# TAQ midpoint price data"
   ]
  },
  {
   "cell_type": "markdown",
   "metadata": {},
   "source": [
    "En la implementacion del midpoint price, divido la tarea en dos partes. Primero obtengo los resultados para todos los eventos en un dia y luego con otra funcion calculo todos los dias del ano."
   ]
  },
  {
   "cell_type": "markdown",
   "metadata": {},
   "source": [
    "### midpoint price data por dia\n",
    "\n",
    "Esta funcion no tiene problema en cuanto al tiempo de ejecucion. Las operaciones que realiza son muy basicas. Sin embargo, mi implementacion anterior usando solo `numpy` se demoraba 0,020s por dia y ahora se demora 0.1s por dia utilizando `pandas`.\n",
    "\n",
    "La implementacion con `numpy` la voy a nombrar `taq_midpoint_event_data_numpy` y la implementacion con `pandas` la voy a nombrar `taq_midpoint_event_data_pandas`.\n",
    "\n",
    "En este caso no entiendo por que con `pandas` es mas lento"
   ]
  },
  {
   "cell_type": "code",
   "execution_count": null,
   "metadata": {},
   "outputs": [],
   "source": [
    "def taq_midpoint_event_data_numpy(ticker, year, month, day):\n",
    "    \"\"\"Computes the midpoint price of every event.\n",
    "\n",
    "    Using the dayly TAQ data computes the midpoint price of every event in a\n",
    "    day.\n",
    "    For further calculations, the function returns the values for the time\n",
    "    range from 9h40 to 15h50.\n",
    "\n",
    "    :param ticker: string of the abbreviation of the stock to be analized\n",
    "     (i.e. 'AAPL').\n",
    "    :param year: string of the year to be analized (i.e '2008').\n",
    "    :param month: string of the month to be analized (i.e '07').\n",
    "    :param day: string of the day to be analized (i.e '07').\n",
    "    :return: tuple -- The function returns a tuple with numpy arrays.\n",
    "    \"\"\"\n",
    "\n",
    "    function_name = taq_midpoint_event_data.__name__\n",
    "\n",
    "    # Load data\n",
    "    # TAQ data gives directly the quotes data in every second that there is\n",
    "    # a change in the quotes\n",
    "    time_q_, bid_q_, ask_q_, _, _ = pickle.load(open(\n",
    "        '../../taq_data/pickle_dayly_data_{1}/TAQ_{0}_quotes_{1}{2}{3}.pickle'\n",
    "        .format(ticker, year, month, day), 'rb'))\n",
    "\n",
    "    # Some files are corrupted, so there are some zero values that\n",
    "    # does not have sense\n",
    "    condition_1 = ask_q_ != 0.\n",
    "    time_q = time_q_[condition_1]\n",
    "    bid_q = bid_q_[condition_1]\n",
    "    ask_q = ask_q_[condition_1]\n",
    "\n",
    "    assert len(bid_q) == len(ask_q)\n",
    "\n",
    "    midpoint = (bid_q + ask_q) / 2\n",
    "    spread = ask_q - bid_q\n",
    "\n",
    "    return (time_q, bid_q, ask_q, midpoint, spread)"
   ]
  },
  {
   "cell_type": "code",
   "execution_count": null,
   "metadata": {},
   "outputs": [],
   "source": [
    "def taq_midpoint_event_data_pandas(ticker, date):\n",
    "    \"\"\"Computes the midpoint price of every event.\n",
    "\n",
    "    Using the dayly TAQ data computes the midpoint price of every event in a\n",
    "    day.\n",
    "    For further calculations, the function returns the values for the time\n",
    "    range from 9h40 to 15h50.\n",
    "\n",
    "    :param ticker: string of the abbreviation of the stock to be analized\n",
    "     (i.e. 'AAPL').\n",
    "    :param year: string of the year to be analized (i.e '2008').\n",
    "    :param month: string of the month to be analized (i.e '07').\n",
    "    :param day: string of the day to be analized (i.e '07').\n",
    "    :return: tuple -- The function returns a tuple with numpy arrays.\n",
    "    \"\"\"\n",
    "\n",
    "    date_sep = date.split('-')\n",
    "    year = date_sep[0]\n",
    "    month = date_sep[1]\n",
    "    day = date_sep[2]\n",
    "\n",
    "    # Load data\n",
    "    # TAQ data gives directly the quotes data in every second that there is\n",
    "    # a change in the quotes\n",
    "    data_quotes_event = pd.read_hdf(\n",
    "        f'hdf5_dayly_data_{year}/taq_{ticker}_quotes_{date}.h5')\n",
    "\n",
    "    # Some files are corrupted, so there are some zero values that\n",
    "    # does not have sense\n",
    "    data_quotes_event = data_quotes_event[data_quotes_event['Ask'] != 0]\n",
    "\n",
    "    data_quotes_event['Midpoint'] = (data_quotes_event['Bid']\n",
    "                                     + data_quotes_event['Ask']) / 2\n",
    "    data_quotes_event['Spread'] = data_quotes_event['Ask'] \\\n",
    "        - data_quotes_event['Bid']\n",
    "\n",
    "    return data_quotes_event"
   ]
  }
 ],
 "metadata": {
  "kernelspec": {
   "display_name": "Python 3",
   "language": "python",
   "name": "python3"
  },
  "language_info": {
   "codemirror_mode": {
    "name": "ipython",
    "version": 3
   },
   "file_extension": ".py",
   "mimetype": "text/x-python",
   "name": "python",
   "nbconvert_exporter": "python",
   "pygments_lexer": "ipython3",
   "version": "3.6.5"
  }
 },
 "nbformat": 4,
 "nbformat_minor": 2
}
