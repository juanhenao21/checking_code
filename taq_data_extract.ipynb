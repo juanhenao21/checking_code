{
 "cells": [
  {
   "cell_type": "markdown",
   "metadata": {},
   "source": [
    "# TAQ data extract"
   ]
  },
  {
   "cell_type": "code",
   "execution_count": null,
   "metadata": {},
   "outputs": [],
   "source": [
    "# Modules\n",
    "\n",
    "import numpy as np\n",
    "import os\n",
    "import pandas as pd"
   ]
  },
  {
   "cell_type": "code",
   "execution_count": null,
   "metadata": {},
   "outputs": [],
   "source": [
    "def taq_data_extract(ticker, type, year):\n",
    "    \"\"\"Extracts the data for every day in a year.\n",
    "\n",
    "    Extracts the trades and quotes (TAQ) data for a day from a CSV file with\n",
    "    the information of a whole year. The time range for each day is from 9:30\n",
    "    to 16:00, that means, the open market time.\n",
    "\n",
    "    :param ticker: string of the abbreviation of the stock to be analized\n",
    "     (i.e. 'AAPL').\n",
    "    :param type: string with the type of the data to be extracted\n",
    "     (i.e. 'trades' or 'quotes').\n",
    "    :param year: string of the year to be analyzed (i.e. '2016').\n",
    "    :return: None -- The function extracts the data and does not return a\n",
    "     value.\n",
    "    \"\"\"\n",
    "\n",
    "    try:\n",
    "\n",
    "        df = pd.DataFrame()\n",
    "        chunksize = 10 ** 7\n",
    "\n",
    "        date_list = taq_data_tools_article_reproduction \\\n",
    "            .taq_bussiness_days(year)\n",
    "\n",
    "        # Load data\n",
    "        csv_file = f'data/{ticker}_{year}_NASDAQ_{type}.csv'\n",
    "\n",
    "        df_type = {'quotes': {\n",
    "                        'Date': 'str',\n",
    "                        'Time': 'int',\n",
    "                        'Bid': 'int',\n",
    "                        'Ask': 'int',\n",
    "                        'Vol_Bid': 'int',\n",
    "                        'Vol_Ask': 'int',\n",
    "                        'Mode': 'int',\n",
    "                        'Cond': 'str',\n",
    "                    },\n",
    "                   'trades': {\n",
    "                        'Date': 'str',\n",
    "                        'Time': 'int',\n",
    "                        'Ask': 'int',\n",
    "                        'Vol_Ask': 'int',\n",
    "                        'Mode': 'int',\n",
    "                        'Corr': 'int',\n",
    "                        'Cond': 'str',\n",
    "                    }}\n",
    "\n",
    "        col_names = {'quotes': ['Date', 'Time', 'Bid', 'Ask', 'Vol_Bid',\n",
    "                                'Vol_Ask', 'Mode', 'Cond'],\n",
    "                     'trades': ['Date', 'Time', 'Ask', 'Vol_Ask', 'Mode',\n",
    "                                'Corr', 'Cond']}\n",
    "\n",
    "        # Save data\n",
    "        if (not os.path.isdir(f'hdf5_dayly_data_{year}/')):\n",
    "\n",
    "            try:\n",
    "                os.mkdir(f'hdf5_dayly_data_{year}/')\n",
    "                print('Folder to save data created')\n",
    "\n",
    "            except FileExistsError:\n",
    "                print('Folder exists. The folder was not created')\n",
    "\n",
    "        for chunk in pd.read_csv(csv_file, chunksize=chunksize, sep='\\s+',\n",
    "                                 names=col_names[type], dtype=df_type[type],\n",
    "                                 na_filter=False, low_memory=False):\n",
    "\n",
    "            chunk['Date'] = pd.to_datetime(chunk['Date'], format='%Y-%m-%d')\n",
    "            chunk.set_index('Date', inplace=True)\n",
    "            if (type == 'quotes'):\n",
    "                chunk.drop(['Mode', 'Cond'], axis=1, inplace=True)\n",
    "            else:\n",
    "                chunk.drop(['Mode', 'Corr', 'Cond'], axis=1, inplace=True)\n",
    "\n",
    "            for date in date_list:\n",
    "                day = chunk.index.isin([date])\n",
    "                df = chunk.loc[day & (chunk['Time'] >= 34200)\n",
    "                               & (chunk['Time'] < 57600)]\n",
    "\n",
    "                if not df.empty:\n",
    "                    df.to_hdf(f''.join(('hdf5_dayly_data_'\n",
    "                              + f'{year}/taq_{ticker}_{type}_{date}.h5')\n",
    "                              .split()), key=type,\n",
    "                              format='table', append=True)\n",
    "\n",
    "        print('Data Saved')\n",
    "        print()\n",
    "\n",
    "        return None\n",
    "\n",
    "    except AssertionError:\n",
    "        print('No data')\n",
    "        print()\n",
    "        return None"
   ]
  },
  {
   "cell_type": "code",
   "execution_count": null,
   "metadata": {},
   "outputs": [],
   "source": [
    "ticker_i = 'AAPL'\n",
    "ticker_j = 'MSFT'\n",
    "type_q = 'quotes'\n",
    "type_t = 'trades'\n",
    "year = '2008'"
   ]
  },
  {
   "cell_type": "code",
   "execution_count": null,
   "metadata": {},
   "outputs": [],
   "source": [
    "%%timeit\n",
    "taq_data_extract(ticker_i, type_q, year)"
   ]
  },
  {
   "cell_type": "code",
   "execution_count": null,
   "metadata": {},
   "outputs": [],
   "source": [
    "%%timeit\n",
    "taq_data_extract(ticker_i, type_t, year)"
   ]
  },
  {
   "cell_type": "code",
   "execution_count": null,
   "metadata": {},
   "outputs": [],
   "source": [
    "%%timeit\n",
    "taq_data_extract(ticker_j, type_q, year)"
   ]
  },
  {
   "cell_type": "code",
   "execution_count": null,
   "metadata": {},
   "outputs": [],
   "source": [
    "%%timeit\n",
    "taq_data_extract(ticker_j, type_t, year)"
   ]
  }
 ],
 "metadata": {
  "kernelspec": {
   "display_name": "Python 3",
   "language": "python",
   "name": "python3"
  },
  "language_info": {
   "codemirror_mode": {
    "name": "ipython",
    "version": 3
   },
   "file_extension": ".py",
   "mimetype": "text/x-python",
   "name": "python",
   "nbconvert_exporter": "python",
   "pygments_lexer": "ipython3",
   "version": "3.6.5"
  }
 },
 "nbformat": 4,
 "nbformat_minor": 2
}
